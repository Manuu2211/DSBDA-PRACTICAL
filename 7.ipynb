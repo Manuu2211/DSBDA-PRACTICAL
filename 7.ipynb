{
  "nbformat": 4,
  "nbformat_minor": 0,
  "metadata": {
    "colab": {
      "provenance": [],
      "authorship_tag": "ABX9TyMkJbY4U/Iamj3CkRRuCJl3",
      "include_colab_link": true
    },
    "kernelspec": {
      "name": "python3",
      "display_name": "Python 3"
    },
    "language_info": {
      "name": "python"
    }
  },
  "cells": [
    {
      "cell_type": "markdown",
      "metadata": {
        "id": "view-in-github",
        "colab_type": "text"
      },
      "source": [
        "<a href=\"https://colab.research.google.com/github/Manuu2211/Dsbda-practical/blob/main/7.ipynb\" target=\"_parent\"><img src=\"https://colab.research.google.com/assets/colab-badge.svg\" alt=\"Open In Colab\"/></a>"
      ]
    },
    {
      "cell_type": "code",
      "execution_count": null,
      "metadata": {
        "colab": {
          "base_uri": "https://localhost:8080/"
        },
        "id": "luDdohJG0rc-",
        "outputId": "565fbab1-8457-4b5d-fb17-3571aed22479"
      },
      "outputs": [
        {
          "output_type": "stream",
          "name": "stderr",
          "text": [
            "[nltk_data] Downloading package punkt to /root/nltk_data...\n",
            "[nltk_data]   Unzipping tokenizers/punkt.zip.\n",
            "[nltk_data] Downloading package stopwords to /root/nltk_data...\n",
            "[nltk_data]   Unzipping corpora/stopwords.zip.\n",
            "[nltk_data] Downloading package wordnet to /root/nltk_data...\n",
            "[nltk_data] Downloading package averaged_perceptron_tagger to\n",
            "[nltk_data]     /root/nltk_data...\n",
            "[nltk_data]   Unzipping taggers/averaged_perceptron_tagger.zip.\n"
          ]
        },
        {
          "output_type": "execute_result",
          "data": {
            "text/plain": [
              "True"
            ]
          },
          "metadata": {},
          "execution_count": 1
        }
      ],
      "source": [
        "import nltk\n",
        "nltk.download('punkt')\n",
        "nltk.download('stopwords')\n",
        "nltk.download('wordnet')\n",
        "nltk.download('averaged_perceptron_tagger')"
      ]
    },
    {
      "cell_type": "code",
      "source": [
        "text= \"Tokenization is the first step in text analytics.The process of breaking down a text paragraph into smaller chunks such as words or sentences is called Tokenization.\""
      ],
      "metadata": {
        "id": "6Vai-i4Y1U94"
      },
      "execution_count": null,
      "outputs": []
    },
    {
      "cell_type": "code",
      "source": [
        "#Sentence Tokenization\n",
        "from nltk.tokenize import sent_tokenize\n",
        "tokenized_text= sent_tokenize(text)\n",
        "print(tokenized_text)\n",
        "#Word Tokenization\n",
        "from nltk.tokenize import word_tokenize\n",
        "tokenized_word=word_tokenize(text)\n",
        "print(tokenized_word)"
      ],
      "metadata": {
        "colab": {
          "base_uri": "https://localhost:8080/"
        },
        "id": "5Zd5fQ2P2Cz2",
        "outputId": "fa1863f7-309a-4e4a-8016-f59982cfcd12"
      },
      "execution_count": null,
      "outputs": [
        {
          "output_type": "stream",
          "name": "stdout",
          "text": [
            "['Tokenization is the first step in text analytics.The process of breaking down a text paragraph into smaller chunks such as words or sentences is called Tokenization.']\n",
            "['Tokenization', 'is', 'the', 'first', 'step', 'in', 'text', 'analytics.The', 'process', 'of', 'breaking', 'down', 'a', 'text', 'paragraph', 'into', 'smaller', 'chunks', 'such', 'as', 'words', 'or', 'sentences', 'is', 'called', 'Tokenization', '.']\n"
          ]
        }
      ]
    },
    {
      "cell_type": "code",
      "source": [
        "# print stop words of English\n",
        "from nltk.corpus import stopwords\n",
        "import re\n",
        "stop_words=set(stopwords.words(\"english\"))\n",
        "print(stop_words)\n",
        "text= \"How to remove stop words with NLTK library in Python?\"\n",
        "text=re.sub('[^a-zA-Z]', ' ',text)\n",
        "tokens = word_tokenize(text.lower())\n",
        "filtered_text=[]\n",
        "for w in tokens: \n",
        "  if w not in stop_words:\n",
        "    filtered_text.append(w)\n",
        "print(\"Tokenized Sentence:\",tokens)\n",
        "print(\"Filterd Sentence:\",filtered_text)"
      ],
      "metadata": {
        "colab": {
          "base_uri": "https://localhost:8080/"
        },
        "id": "6cqWHo_h2O7j",
        "outputId": "e2a254e9-174b-498a-d368-4d79f8450455"
      },
      "execution_count": null,
      "outputs": [
        {
          "output_type": "stream",
          "name": "stdout",
          "text": [
            "{'by', 'into', 'once', 'other', \"you'll\", 'its', 'are', 'under', 'no', 'that', 'whom', 'against', 'all', 'in', 'he', \"shouldn't\", 'weren', 'did', 'y', 'me', \"you're\", 'ours', 'about', 'were', 'had', 'it', 'which', 'each', \"should've\", 'up', 'his', 'has', 're', 'but', 'can', 'her', 'this', 'through', 'isn', 'm', 'himself', 'them', 'being', 'after', 'shouldn', 'wasn', 'is', 'who', 'd', 'just', \"aren't\", 'be', 'such', 'then', \"couldn't\", 'from', 'wouldn', 'with', \"hasn't\", 'few', 'yours', 'an', \"hadn't\", \"won't\", 'should', 'mustn', \"she's\", 'or', 't', 'not', 'there', 'she', 'own', 'hasn', 'herself', 'couldn', 's', 'those', 'themselves', 'how', 'am', 'nor', 'our', 'you', 'where', 'doesn', 'same', 'aren', 'was', 'having', \"it's\", 'yourselves', 'more', 'above', 'won', 'theirs', 'mightn', 'only', 'below', 'of', 'here', 'been', 'didn', 'what', 'than', \"haven't\", 'needn', 'off', 'while', 'we', 'over', \"mightn't\", 'him', 'too', 'both', 'on', \"isn't\", 'before', 'yourself', 'itself', 'your', 'a', \"mustn't\", 'to', 'some', 'any', 'hers', 'until', 'my', 'don', 'shan', 'the', 'these', 'when', 'doing', 'll', 'so', \"you've\", \"doesn't\", 'o', 'hadn', 'again', \"you'd\", \"don't\", \"wasn't\", 'now', 've', 'for', 'they', 'haven', 'i', 'most', 'ma', 'at', 'if', 'further', 'myself', 'down', 'ain', \"weren't\", 'have', 'between', 'during', 'because', 'their', 'will', \"shan't\", \"wouldn't\", 'and', \"didn't\", 'why', \"needn't\", 'out', 'ourselves', \"that'll\", 'as', 'do', 'does', 'very'}\n",
            "Tokenized Sentence: ['how', 'to', 'remove', 'stop', 'words', 'with', 'nltk', 'library', 'in', 'python']\n",
            "Filterd Sentence: ['remove', 'stop', 'words', 'nltk', 'library', 'python']\n"
          ]
        }
      ]
    },
    {
      "cell_type": "code",
      "source": [
        "from nltk.stem import PorterStemmer\n",
        "e_words= [\"wait\", \"waiting\", \"waited\", \"waits\"]\n",
        "ps =PorterStemmer()\n",
        "for w in e_words:\n",
        "     rootWord=ps.stem(w)\n",
        "print(rootWord)"
      ],
      "metadata": {
        "colab": {
          "base_uri": "https://localhost:8080/"
        },
        "id": "l5krGamH4QVJ",
        "outputId": "b0b7df21-acae-4fe6-da9a-1488c1a97b8d"
      },
      "execution_count": null,
      "outputs": [
        {
          "output_type": "stream",
          "name": "stdout",
          "text": [
            "wait\n"
          ]
        }
      ]
    },
    {
      "cell_type": "code",
      "source": [
        "from nltk.stem import WordNetLemmatizer\n",
        "wordnet_lemmatizer = WordNetLemmatizer()\n",
        "text = \"studies studying cries cry\"\n",
        "tokenization = nltk.word_tokenize(text)\n",
        "for w in tokenization:\n",
        "       print(\"Lemma for {} is {}\".format(w,\n",
        "wordnet_lemmatizer.lemmatize(w)))"
      ],
      "metadata": {
        "colab": {
          "base_uri": "https://localhost:8080/"
        },
        "id": "Io0J15Y-4k3l",
        "outputId": "940b701e-86d4-46ac-9f5d-e1f4dbc8a752"
      },
      "execution_count": null,
      "outputs": [
        {
          "output_type": "stream",
          "name": "stdout",
          "text": [
            "Lemma for studies is study\n",
            "Lemma for studying is studying\n",
            "Lemma for cries is cry\n",
            "Lemma for cry is cry\n"
          ]
        }
      ]
    },
    {
      "cell_type": "code",
      "source": [
        "import nltk\n",
        "from nltk.tokenize import word_tokenize\n",
        "data=\"The pink sweater fit her perfectly\"\n",
        "words=word_tokenize(data)\n",
        "for word in words:\n",
        "         print(nltk.pos_tag([word]))"
      ],
      "metadata": {
        "colab": {
          "base_uri": "https://localhost:8080/"
        },
        "id": "JpQBccwr4wfk",
        "outputId": "58c116d2-2f0f-4fdc-ad82-a1ac2482aa3c"
      },
      "execution_count": null,
      "outputs": [
        {
          "output_type": "stream",
          "name": "stdout",
          "text": [
            "[('The', 'DT')]\n",
            "[('pink', 'NN')]\n",
            "[('sweater', 'NN')]\n",
            "[('fit', 'NN')]\n",
            "[('her', 'PRP$')]\n",
            "[('perfectly', 'RB')]\n"
          ]
        }
      ]
    },
    {
      "cell_type": "code",
      "source": [
        "import pandas as pd\n",
        "from sklearn.feature_extraction.text import TfidfVectorizer"
      ],
      "metadata": {
        "id": "_O1UeXsc5ZbR"
      },
      "execution_count": null,
      "outputs": []
    },
    {
      "cell_type": "code",
      "source": [
        "documentA = 'Jupiter is the largest Planet'\n",
        "documentB = 'Mars is the fourth planet from the Sun'"
      ],
      "metadata": {
        "id": "AVK2Dibi5hm7"
      },
      "execution_count": null,
      "outputs": []
    },
    {
      "cell_type": "code",
      "source": [
        "bagOfWordsA = documentA.split(' ')\n",
        "bagOfWordsB = documentB.split(' ')"
      ],
      "metadata": {
        "id": "I4AuvE3n5nWT"
      },
      "execution_count": null,
      "outputs": []
    },
    {
      "cell_type": "code",
      "source": [
        "uniqueWords = set(bagOfWordsA).union(set(bagOfWordsB))"
      ],
      "metadata": {
        "id": "VsbtoIgC5r_w"
      },
      "execution_count": null,
      "outputs": []
    },
    {
      "cell_type": "code",
      "source": [
        "numOfWordsA = dict.fromkeys(uniqueWords, 0)\n",
        "for word in bagOfWordsA:\n",
        "           numOfWordsA[word] += 1\n",
        "numOfWordsB = dict.fromkeys(uniqueWords, 0)\n",
        "for word in bagOfWordsB:\n",
        "             numOfWordsB[word] += 1"
      ],
      "metadata": {
        "id": "kKOUNr1w50Hg"
      },
      "execution_count": null,
      "outputs": []
    },
    {
      "cell_type": "code",
      "source": [
        "def computeTF(wordDict, bagOfWords):\n",
        "     tfDict = {}\n",
        "     bagOfWordsCount=len(bagOfWords)\n",
        "     for word, count in wordDict.items():\n",
        "        tfDict[word] = count / float(bagOfWordsCount)\n",
        "     return tfDict\n",
        "tfA = computeTF(numOfWordsA, bagOfWordsA)\n",
        "tfB = computeTF(numOfWordsB, bagOfWordsB)"
      ],
      "metadata": {
        "id": "qQGE7c4_594b"
      },
      "execution_count": null,
      "outputs": []
    },
    {
      "cell_type": "code",
      "source": [
        "def computeIDF(documents):\n",
        " import math\n",
        " N = len(documents)\n",
        " idfDict = dict.fromkeys(documents[0].keys(), 0)\n",
        " for document in documents:\n",
        "  for word, val in document.items():\n",
        "         if val>0:\n",
        "           idfDict[word] +=1\n",
        "  for word, val in idfDict.items():\n",
        "    idfDict[word]=math.log(N/float(val))\n",
        "  return idfDict\n"
      ],
      "metadata": {
        "id": "fNFAfYqy8rJa"
      },
      "execution_count": null,
      "outputs": []
    },
    {
      "cell_type": "code",
      "source": [
        "def computeTFIDF(tfBagOfWords, idfs):\n",
        " tfidf = {}\n",
        " for word, val in tfBagOfWords.items():\n",
        "   tfidf[word] = val *idfs[word]\n",
        " return tfidf\n",
        " tfidfA = computeTFIDF(tfA, idfs)\n",
        " tfidfB = computeTFIDF(tfB, idfs)\n",
        " df = pd.DataFrame([tfidfA, tfidfB])\n",
        " df "
      ],
      "metadata": {
        "id": "6E0ij2B-E7-z"
      },
      "execution_count": null,
      "outputs": []
    }
  ]
}